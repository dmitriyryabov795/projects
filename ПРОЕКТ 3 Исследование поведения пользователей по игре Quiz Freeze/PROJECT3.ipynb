{
 "cells": [
  {
   "attachments": {},
   "cell_type": "markdown",
   "metadata": {},
   "source": [
    "### Описание задач\n",
    "ЛЕГЕНДА: \n",
    "Требуется произвести глубокий анализ поведения пользователей над мобильной игрой Quiz Freeze. Для проекта используются таблицы event и purchase, хранящие данные о действиях пользователей в игре Quiz Freeze.\n",
    "\n",
    "ЦЕЛЬ: \n",
    "Исследовать поведение пользователей в обновлённом приложении.\n",
    "\n",
    "Гипотеза 1: \n",
    "По идее, должна быть разница в поведении групп, которые проходят и не проходят обучение. Но так ли это? Влияет ли обучение на скорость прохождения других этапов игры?\n",
    "\n",
    "Гипотеза 2: \n",
    "Кажется, повторное прохождение обучения положительно влияет на оплату, верно?\n",
    "\n",
    "Гипотеза 3: \n",
    "Если пользователь сначала выбирает сложность обучения, будет ли он потом проходить обучение?\n",
    "\n",
    "ЗАДАЧИ: \n",
    "\n",
    "1.Определить, насколько обучение сокращает время прохождения этапов игры.\n",
    "\n",
    "2.Доказать, что успешное обучение само по себе влияет на оплату и не имеет значения то, каким этапом оно шло.\n",
    "\n",
    "3.Определить, насколько прозрачен процесс взаимодействия с игрой.\n",
    "\n",
    "Важно! Задание выполняется на основе данных пользователей, которые зарегистрировались в 2018 году (с 1 января по 31 декабря 2018 года включительно).\n",
    "\n",
    "### Ход проверки"
   ]
  },
  {
   "attachments": {},
   "cell_type": "markdown",
   "metadata": {},
   "source": [
    "Импортируем нужные библиотеки\n",
    "Получаем данные из базы данных"
   ]
  },
  {
   "cell_type": "code",
   "execution_count": 1,
   "metadata": {},
   "outputs": [
    {
     "name": "stdout",
     "output_type": "stream",
     "text": [
      "<bound method DataFrame.info of             id       event_type selected_level           start_time  \\\n",
      "0        28903     registration            NaN  2016-05-11T23:40:55   \n",
      "1        28904     registration            NaN  2016-05-11T23:49:58   \n",
      "2        28905     registration            NaN  2016-05-12T00:53:07   \n",
      "3        28906   tutorial_start            NaN  2016-05-12T01:32:20   \n",
      "4        28907  tutorial_finish            NaN  2016-05-12T01:34:53   \n",
      "...        ...              ...            ...                  ...   \n",
      "252329  281232     level_choice           hard  2020-07-02T10:02:15   \n",
      "252330  281233     level_choice         medium  2020-07-02T11:38:52   \n",
      "252331  281234      pack_choice            NaN  2020-07-02T11:42:14   \n",
      "252332  281235   tutorial_start            NaN  2020-07-02T13:32:58   \n",
      "252333  281236  tutorial_finish            NaN  2020-07-02T13:36:36   \n",
      "\n",
      "        tutorial_id  user_id  \n",
      "0               NaN    12583  \n",
      "1               NaN    12584  \n",
      "2               NaN    12585  \n",
      "3           17562.0    12585  \n",
      "4           17562.0    12585  \n",
      "...             ...      ...  \n",
      "252329          NaN    87439  \n",
      "252330          NaN    87488  \n",
      "252331          NaN    87488  \n",
      "252332      86127.0    87464  \n",
      "252333      86127.0    87464  \n",
      "\n",
      "[252334 rows x 6 columns]>\n",
      "<bound method DataFrame.info of          id  user_id       event_datetime  amount\n",
      "0     15674    12584  2016-05-12T10:34:16     100\n",
      "1     15675    12985  2016-05-13T08:25:56      50\n",
      "2     15676    12828  2016-05-13T16:33:46      50\n",
      "3     15677    12598  2016-05-14T01:09:37     150\n",
      "4     15678    13037  2016-05-14T01:24:46     100\n",
      "...     ...      ...                  ...     ...\n",
      "5951  21625    87331  2020-07-06T09:02:07      50\n",
      "5952  21626    87418  2020-07-06T14:16:37     100\n",
      "5953  21627    87431  2020-07-06T22:48:59      50\n",
      "5954  21628    87363  2020-07-07T05:38:56     100\n",
      "5955  21629    87466  2020-07-08T01:59:21      50\n",
      "\n",
      "[5956 rows x 4 columns]>\n"
     ]
    }
   ],
   "source": [
    "# Импортируем нужные библиотеки\n",
    " \n",
    "import pandas as pd\n",
    "import numpy as np\n",
    "from datetime import timedelta\n",
    "import matplotlib.pyplot as plt\n",
    "import seaborn as sns\n",
    "import plotly.express as px\n",
    "\n",
    "# Получаем данные из базы данных\n",
    "Events = pd.read_csv('C:\\SKILLLB\\M44PROJECT3\\Events.csv', sep=',')\n",
    "purchase = pd.read_csv('C:\\SKILLLB\\M44PROJECT3\\purchase.csv', sep=',')\n",
    "\n",
    "# #создаем копии\n",
    "events_df = Events.copy()\n",
    "purchase_df = purchase.copy()\n",
    "print(events_df.info)\n",
    "print(purchase_df.info)\n",
    "# print(events_df.describe())\n",
    "# print(events_df.head(-10))"
   ]
  },
  {
   "attachments": {},
   "cell_type": "markdown",
   "metadata": {},
   "source": [
    "Фильтруем пользователей зарегистрированных в 2018 г"
   ]
  },
  {
   "cell_type": "code",
   "execution_count": 2,
   "metadata": {},
   "outputs": [],
   "source": [
    "# Фильтруем пользователей зарегистрированных в 2018 г\n",
    "mask1 = events_df['start_time'] >= '2018-01-01'\n",
    "mask2 = events_df['start_time'] < '2019-01-01'\n",
    "mask3 = events_df['event_type'] == 'registration'\n",
    "\n",
    "# Оставляем в таблице только пользователей зарегистрированных в 2018 г.\n",
    "users_2018 = events_df[mask1 & mask2 & mask3]['user_id'].to_list()\n",
    "events_df = events_df[events_df['user_id'].isin(users_2018)]\n",
    "purchase_df = purchase[purchase['user_id'].isin(users_2018)]\n",
    "\n",
    "# events_df.info()"
   ]
  },
  {
   "attachments": {},
   "cell_type": "markdown",
   "metadata": {},
   "source": [
    "Произведем преобразование типов "
   ]
  },
  {
   "cell_type": "code",
   "execution_count": 3,
   "metadata": {},
   "outputs": [
    {
     "name": "stderr",
     "output_type": "stream",
     "text": [
      "c:\\temp1\\ipykernel_6300\\4128140302.py:2: SettingWithCopyWarning: \n",
      "A value is trying to be set on a copy of a slice from a DataFrame.\n",
      "Try using .loc[row_indexer,col_indexer] = value instead\n",
      "\n",
      "See the caveats in the documentation: https://pandas.pydata.org/pandas-docs/stable/user_guide/indexing.html#returning-a-view-versus-a-copy\n",
      "  purchase_df['event_datetime'] = pd.to_datetime(purchase_df['event_datetime'])\n"
     ]
    }
   ],
   "source": [
    "events_df['start_time'] = pd.to_datetime(events_df['start_time'])\n",
    "purchase_df['event_datetime'] = pd.to_datetime(purchase_df['event_datetime'])"
   ]
  },
  {
   "cell_type": "code",
   "execution_count": 4,
   "metadata": {},
   "outputs": [
    {
     "data": {
      "text/html": [
       "<div>\n",
       "<style scoped>\n",
       "    .dataframe tbody tr th:only-of-type {\n",
       "        vertical-align: middle;\n",
       "    }\n",
       "\n",
       "    .dataframe tbody tr th {\n",
       "        vertical-align: top;\n",
       "    }\n",
       "\n",
       "    .dataframe thead th {\n",
       "        text-align: right;\n",
       "    }\n",
       "</style>\n",
       "<table border=\"1\" class=\"dataframe\">\n",
       "  <thead>\n",
       "    <tr style=\"text-align: right;\">\n",
       "      <th></th>\n",
       "      <th>event_id</th>\n",
       "      <th>event_type</th>\n",
       "      <th>selected_level</th>\n",
       "      <th>start_time</th>\n",
       "      <th>tutorial_id</th>\n",
       "      <th>user_id</th>\n",
       "      <th>purchase_id</th>\n",
       "      <th>amount</th>\n",
       "    </tr>\n",
       "  </thead>\n",
       "  <tbody>\n",
       "    <tr>\n",
       "      <th>0</th>\n",
       "      <td>80308.0</td>\n",
       "      <td>registration</td>\n",
       "      <td>NaN</td>\n",
       "      <td>2018-01-01 03:48:40</td>\n",
       "      <td>NaN</td>\n",
       "      <td>27832</td>\n",
       "      <td>NaN</td>\n",
       "      <td>NaN</td>\n",
       "    </tr>\n",
       "    <tr>\n",
       "      <th>1</th>\n",
       "      <td>80309.0</td>\n",
       "      <td>registration</td>\n",
       "      <td>NaN</td>\n",
       "      <td>2018-01-01 04:07:25</td>\n",
       "      <td>NaN</td>\n",
       "      <td>27833</td>\n",
       "      <td>NaN</td>\n",
       "      <td>NaN</td>\n",
       "    </tr>\n",
       "    <tr>\n",
       "      <th>2</th>\n",
       "      <td>80310.0</td>\n",
       "      <td>registration</td>\n",
       "      <td>NaN</td>\n",
       "      <td>2018-01-01 08:35:10</td>\n",
       "      <td>NaN</td>\n",
       "      <td>27834</td>\n",
       "      <td>NaN</td>\n",
       "      <td>NaN</td>\n",
       "    </tr>\n",
       "    <tr>\n",
       "      <th>3</th>\n",
       "      <td>80311.0</td>\n",
       "      <td>registration</td>\n",
       "      <td>NaN</td>\n",
       "      <td>2018-01-01 11:54:47</td>\n",
       "      <td>NaN</td>\n",
       "      <td>27835</td>\n",
       "      <td>NaN</td>\n",
       "      <td>NaN</td>\n",
       "    </tr>\n",
       "    <tr>\n",
       "      <th>4</th>\n",
       "      <td>80312.0</td>\n",
       "      <td>registration</td>\n",
       "      <td>NaN</td>\n",
       "      <td>2018-01-01 13:28:07</td>\n",
       "      <td>NaN</td>\n",
       "      <td>27836</td>\n",
       "      <td>NaN</td>\n",
       "      <td>NaN</td>\n",
       "    </tr>\n",
       "  </tbody>\n",
       "</table>\n",
       "</div>"
      ],
      "text/plain": [
       "   event_id    event_type selected_level          start_time  tutorial_id  \\\n",
       "0   80308.0  registration            NaN 2018-01-01 03:48:40          NaN   \n",
       "1   80309.0  registration            NaN 2018-01-01 04:07:25          NaN   \n",
       "2   80310.0  registration            NaN 2018-01-01 08:35:10          NaN   \n",
       "3   80311.0  registration            NaN 2018-01-01 11:54:47          NaN   \n",
       "4   80312.0  registration            NaN 2018-01-01 13:28:07          NaN   \n",
       "\n",
       "   user_id  purchase_id  amount  \n",
       "0    27832          NaN     NaN  \n",
       "1    27833          NaN     NaN  \n",
       "2    27834          NaN     NaN  \n",
       "3    27835          NaN     NaN  \n",
       "4    27836          NaN     NaN  "
      ]
     },
     "metadata": {},
     "output_type": "display_data"
    }
   ],
   "source": [
    "# Перед объединением датафреймов, переименуем колонки\n",
    "events_df = events_df.rename(columns={\"id\": \"event_id\"})\n",
    "purchase_df = purchase_df.rename(columns={\"id\": \"purchase_id\", \"event_datetime\": \"start_time\"})\n",
    "\n",
    "# Создадим новый столбец момента оплаты\n",
    "purchase_df['event_type'] = 'purchase'\n",
    "\n",
    "# Сделаем объединенный датафрейм из событий и оплат\n",
    "total_events_df = pd.concat([events_df, purchase_df], ignore_index = True).sort_values(by = 'start_time')\n",
    "\n",
    "# Произведем преобразование типа\n",
    "total_events_df['start_time'] = pd.to_datetime(total_events_df['start_time'])\n",
    "total_events_df = total_events_df.reset_index(drop=True).sort_values('start_time')\n",
    "\n",
    "display(total_events_df.head())"
   ]
  },
  {
   "attachments": {},
   "cell_type": "markdown",
   "metadata": {},
   "source": [
    "Гипотеза 1: Обучение влияет на скорость прохождения других этапов игры"
   ]
  },
  {
   "cell_type": "code",
   "execution_count": 5,
   "metadata": {},
   "outputs": [],
   "source": [
    "#cоздаем сводную таблицу по минимальному времени начала этапа для подсчета разницы\n",
    "pivot_df=total_events_df.pivot_table(values='start_time', index='user_id', columns='event_type', aggfunc='min') "
   ]
  },
  {
   "cell_type": "code",
   "execution_count": 6,
   "metadata": {},
   "outputs": [],
   "source": [
    "# время от регистрации до начала обучения\n",
    "pivot_df['delta_tutorial_start'] = (pivot_df['tutorial_start'] - pivot_df['registration'])/ pd.Timedelta('1 hour') \n",
    "# время от регистрации до конца обучения\n",
    "pivot_df['delta_tutorial_finish'] = (pivot_df['tutorial_finish'] - pivot_df['registration'])/ pd.Timedelta('1 hour') \n",
    "# время на всю последовательность\n",
    "pivot_df['delta_all_time'] = (pivot_df['purchase'] - pivot_df['registration'])/ pd.Timedelta('1 hour') \n",
    "# время от выбора сложности до окончания обучения\n",
    "pivot_df['delta_level_choice']=(pivot_df['level_choice']-pivot_df['tutorial_finish'])/pd.Timedelta('1 hour') \n",
    "# время от выбора сложности до покупки\n",
    "pivot_df['delta_pach_choice']=(pivot_df['pack_choice']-pivot_df['level_choice'])/pd.Timedelta('1 hour')\n",
    "# время на оплату \n",
    "pivot_df['delta_purchase']=(pivot_df['purchase']-pivot_df['pack_choice'])/pd.Timedelta('1 hour') "
   ]
  },
  {
   "cell_type": "code",
   "execution_count": 7,
   "metadata": {},
   "outputs": [],
   "source": [
    "#обозначим тех, кто начал обучение\n",
    "users_with_started_tutorial = set(events_df[events_df['event_type'] == 'tutorial_start']['user_id'])\n",
    "all_users = set(events_df['user_id'])\n",
    "#обозначим тех, кто обучение не проходил\n",
    "not_start_tutorial = all_users.difference(users_with_started_tutorial)\n",
    "#обозначим тех, кто прошел обучение\n",
    "tutorial_finished_users = set(total_events_df[total_events_df[\"event_type\"] == \"tutorial_finish\"]['user_id']) "
   ]
  },
  {
   "cell_type": "code",
   "execution_count": 8,
   "metadata": {},
   "outputs": [],
   "source": [
    "#сбросим индексы\n",
    "pivot_df = pivot_df.reset_index()"
   ]
  },
  {
   "cell_type": "code",
   "execution_count": 9,
   "metadata": {},
   "outputs": [],
   "source": [
    "#создадим функцию, которая будет определять группу пользователя\n",
    "def get_tutorial_status(user_id):\n",
    "    if user_id in tutorial_finished_users:\n",
    "        return 'FINISHED'\n",
    "    elif user_id in not_start_tutorial:\n",
    "        return 'NOT_START'\n",
    "    else:\n",
    "        return 'NO_DATA'\n",
    "    \n",
    "pivot_df['group']=pivot_df['user_id'].apply(get_tutorial_status)"
   ]
  },
  {
   "cell_type": "code",
   "execution_count": 10,
   "metadata": {},
   "outputs": [
    {
     "name": "stderr",
     "output_type": "stream",
     "text": [
      "c:\\temp1\\ipykernel_6300\\2978231261.py:2: FutureWarning: Indexing with multiple keys (implicitly converted to a tuple of keys) will be deprecated, use a list instead.\n",
      "  bar_data = pivot_df.groupby(by='group', as_index=False)['delta_all_time','delta_purchase','delta_tutorial_start', 'delta_tutorial_finish', 'delta_level_choice', 'delta_pach_choice'].mean()\n"
     ]
    },
    {
     "data": {
      "text/html": [
       "<div>\n",
       "<style scoped>\n",
       "    .dataframe tbody tr th:only-of-type {\n",
       "        vertical-align: middle;\n",
       "    }\n",
       "\n",
       "    .dataframe tbody tr th {\n",
       "        vertical-align: top;\n",
       "    }\n",
       "\n",
       "    .dataframe thead th {\n",
       "        text-align: right;\n",
       "    }\n",
       "</style>\n",
       "<table border=\"1\" class=\"dataframe\">\n",
       "  <thead>\n",
       "    <tr style=\"text-align: right;\">\n",
       "      <th>group</th>\n",
       "      <th>group</th>\n",
       "      <th>FINISHED</th>\n",
       "      <th>NOT_START</th>\n",
       "      <th>NO_DATA</th>\n",
       "    </tr>\n",
       "  </thead>\n",
       "  <tbody>\n",
       "    <tr>\n",
       "      <th>0</th>\n",
       "      <td>delta_all_time</td>\n",
       "      <td>96.500902</td>\n",
       "      <td>105.10053</td>\n",
       "      <td>101.548115</td>\n",
       "    </tr>\n",
       "    <tr>\n",
       "      <th>1</th>\n",
       "      <td>delta_purchase</td>\n",
       "      <td>89.2999</td>\n",
       "      <td>100.825997</td>\n",
       "      <td>93.246363</td>\n",
       "    </tr>\n",
       "    <tr>\n",
       "      <th>2</th>\n",
       "      <td>delta_tutorial_start</td>\n",
       "      <td>4.518038</td>\n",
       "      <td>NaN</td>\n",
       "      <td>5.41747</td>\n",
       "    </tr>\n",
       "    <tr>\n",
       "      <th>3</th>\n",
       "      <td>delta_tutorial_finish</td>\n",
       "      <td>4.721878</td>\n",
       "      <td>NaN</td>\n",
       "      <td>NaN</td>\n",
       "    </tr>\n",
       "    <tr>\n",
       "      <th>4</th>\n",
       "      <td>delta_level_choice</td>\n",
       "      <td>2.329711</td>\n",
       "      <td>NaN</td>\n",
       "      <td>NaN</td>\n",
       "    </tr>\n",
       "    <tr>\n",
       "      <th>5</th>\n",
       "      <td>delta_pach_choice</td>\n",
       "      <td>0.088374</td>\n",
       "      <td>0.089951</td>\n",
       "      <td>0.084804</td>\n",
       "    </tr>\n",
       "  </tbody>\n",
       "</table>\n",
       "</div>"
      ],
      "text/plain": [
       "group                  group   FINISHED   NOT_START     NO_DATA\n",
       "0             delta_all_time  96.500902   105.10053  101.548115\n",
       "1             delta_purchase    89.2999  100.825997   93.246363\n",
       "2       delta_tutorial_start   4.518038         NaN     5.41747\n",
       "3      delta_tutorial_finish   4.721878         NaN         NaN\n",
       "4         delta_level_choice   2.329711         NaN         NaN\n",
       "5          delta_pach_choice   0.088374    0.089951    0.084804"
      ]
     },
     "execution_count": 10,
     "metadata": {},
     "output_type": "execute_result"
    },
    {
     "data": {
      "image/png": "[encoded data removed]",
      "text/plain": [
       "<Figure size 1800x800 with 1 Axes>"
      ]
     },
     "metadata": {},
     "output_type": "display_data"
    }
   ],
   "source": [
    "#создаем датафрейм для визуализации данных\n",
    "bar_data = pivot_df.groupby(by='group', as_index=False)['delta_all_time','delta_purchase','delta_tutorial_start', 'delta_tutorial_finish', 'delta_level_choice', 'delta_pach_choice'].mean()\n",
    "bar_data = bar_data.transpose()\n",
    "bar_data.columns = bar_data.iloc[0]\n",
    "bar_data = bar_data.iloc[1:]\n",
    "bar_data.index.rename('group', inplace=True)\n",
    "bar_data = bar_data.reset_index()\n",
    "#визуализируем данные\n",
    "bar_data.plot(\n",
    "    kind='bar',\n",
    "    grid=True,\n",
    "    figsize=(18, 8),\n",
    "    x='group',\n",
    "    rot=0,\n",
    "    fontsize=10,\n",
    "    title='Временная разница прохождения этапов при наличии или отсутствии обучения'\n",
    "    ) ;\n",
    "bar_data"
   ]
  },
  {
   "attachments": {},
   "cell_type": "markdown",
   "metadata": {},
   "source": [
    "Вывод: \n",
    "Из столбчатой диаграммы наглядно видно, что время прохождения игры у \"обученных\" людей ниже. \n",
    "Для детального анализа следует перейти к изучению числовых показателей.\n",
    "Этап от регистрации пользователя до покупки платных вопросов составляет 101 час. Если пользователь прошел обучение, то время такого же пути сокращается до 96,5 часов в среднем, а если обучение проигнорировано, то увеличивается до 105 часов (+8%). Последняя группа пользователей, которая не закончила обучение проходит все этапы за 101 час.  \n",
    "Переход от уровня сложности до выбора пакета вопросов у всех групп примерно одинаковый, составляет чуть больше 5 минут. Пользователи, которые пренебрегли обучением, теряют на этапе от выбора вопросов до оплаты больше всего времени на 12 часов больше по сравнению с пользователями, которые прошли обучение.  "
   ]
  },
  {
   "attachments": {},
   "cell_type": "markdown",
   "metadata": {},
   "source": [
    "Гипотеза 2: Повторное прохождение обучения положительно влияет на оплату"
   ]
  },
  {
   "cell_type": "code",
   "execution_count": 11,
   "metadata": {},
   "outputs": [
    {
     "data": {
      "text/plain": [
       "1    9103\n",
       "2    1589\n",
       "3     427\n",
       "4     221\n",
       "5     109\n",
       "6     116\n",
       "7      94\n",
       "8      86\n",
       "9     113\n",
       "Name: event_type, dtype: int64"
      ]
     },
     "metadata": {},
     "output_type": "display_data"
    },
    {
     "data": {
      "text/plain": [
       "125      27845\n",
       "178      27865\n",
       "449      27911\n",
       "467      27910\n",
       "472      27940\n",
       "         ...  \n",
       "68554    47498\n",
       "68555    47647\n",
       "68556    47554\n",
       "68557    47742\n",
       "68558    47732\n",
       "Name: user_id, Length: 1578, dtype: int64"
      ]
     },
     "metadata": {},
     "output_type": "display_data"
    }
   ],
   "source": [
    "#Разделим пользователей на группы по количеству стартов обучения\n",
    "tutorial_start_df = total_events_df[total_events_df['event_type'] == 'tutorial_start']\n",
    "start_group = tutorial_start_df.groupby(['user_id'])['event_type'].count().sort_values(ascending=False)\n",
    "user_start_group = tutorial_start_df['user_id'].unique()\n",
    "start_group_count = start_group.value_counts().sort_index()\n",
    "\n",
    "#Выделим пользователей из группы начавших обучение и перешедших в клиенты\n",
    "purchase_start = total_events_df[(total_events_df['event_type'] == 'purchase') & (total_events_df['user_id'].isin(user_start_group))]['user_id']\n",
    "\n",
    "display(start_group_count)\n",
    "display(purchase_start)"
   ]
  },
  {
   "cell_type": "code",
   "execution_count": 12,
   "metadata": {},
   "outputs": [
    {
     "data": {
      "text/plain": [
       "1    8015\n",
       "2    1321\n",
       "3     345\n",
       "4     178\n",
       "5     117\n",
       "6     101\n",
       "7      97\n",
       "8      54\n",
       "9      22\n",
       "Name: event_type, dtype: int64"
      ]
     },
     "metadata": {},
     "output_type": "display_data"
    },
    {
     "data": {
      "text/plain": [
       "125      27845\n",
       "467      27910\n",
       "472      27940\n",
       "538      27981\n",
       "544      27969\n",
       "         ...  \n",
       "68554    47498\n",
       "68555    47647\n",
       "68556    47554\n",
       "68557    47742\n",
       "68558    47732\n",
       "Name: user_id, Length: 1447, dtype: int64"
      ]
     },
     "metadata": {},
     "output_type": "display_data"
    }
   ],
   "source": [
    "#Разделим пользователей на группы по количеству завершений обучения\n",
    "tutorial_finish_df = total_events_df[total_events_df['event_type'] == 'tutorial_finish']\n",
    "finish_group = tutorial_finish_df.groupby(['user_id'])['event_type'].count().sort_values(ascending=False)\n",
    "user_finish_group = tutorial_finish_df['user_id'].unique()\n",
    "finish_group_count = finish_group.value_counts().sort_index()\n",
    "\n",
    "#Выделим пользователей из группы завершивших обучение и перешедших в клиенты\n",
    "purchase_finish = total_events_df[(total_events_df['event_type'] == 'purchase') & (total_events_df['user_id'].isin(user_finish_group))]['user_id']\n",
    "\n",
    "display(finish_group_count)\n",
    "display(purchase_finish)"
   ]
  },
  {
   "cell_type": "code",
   "execution_count": 13,
   "metadata": {},
   "outputs": [],
   "source": [
    "#Создаем дубликат для дальнейших расчетов\n",
    "total_events_copy = total_events_df.copy()"
   ]
  },
  {
   "cell_type": "code",
   "execution_count": 14,
   "metadata": {},
   "outputs": [],
   "source": [
    "#Создаем функцию для подсчета завершений обучения\n",
    "def count_finish_tutorial(row):\n",
    "    if row.event_type == 'tutorial_finish':\n",
    "        return 1\n",
    "#Создаем функцию для завершений обучения \n",
    "total_events_copy['count_tutorial_finish'] = total_events_copy.apply(count_finish_tutorial, axis=1)\n"
   ]
  },
  {
   "cell_type": "code",
   "execution_count": 15,
   "metadata": {},
   "outputs": [],
   "source": [
    "#Создаем функцию для подсчета клиентов\n",
    "def count_client(x):\n",
    "    if x['event_type']=='purchase':\n",
    "        return 1\n",
    "#Добавляем счетчик клиентов\n",
    "total_events_copy['count_client'] = total_events_copy.apply(count_client, axis=1)    "
   ]
  },
  {
   "cell_type": "code",
   "execution_count": 16,
   "metadata": {},
   "outputs": [],
   "source": [
    "#Создаем функцию для подсчета пользователей\n",
    "def count_users(x):\n",
    "    if x['event_type']=='registration':\n",
    "        return 1\n",
    "#Добавляем счетчик пользователей\n",
    "total_events_copy['count_users'] = total_events_copy.apply(count_users, axis=1) "
   ]
  },
  {
   "cell_type": "code",
   "execution_count": 17,
   "metadata": {},
   "outputs": [
    {
     "name": "stderr",
     "output_type": "stream",
     "text": [
      "c:\\temp1\\ipykernel_6300\\271257270.py:2: FutureWarning: The default value of numeric_only in DataFrameGroupBy.sum is deprecated. In a future version, numeric_only will default to False. Either specify numeric_only or select only columns which should be valid for the function.\n",
      "  group_df = total_events_copy.groupby(by='user_id').sum()\n"
     ]
    },
    {
     "data": {
      "text/html": [
       "<div>\n",
       "<style scoped>\n",
       "    .dataframe tbody tr th:only-of-type {\n",
       "        vertical-align: middle;\n",
       "    }\n",
       "\n",
       "    .dataframe tbody tr th {\n",
       "        vertical-align: top;\n",
       "    }\n",
       "\n",
       "    .dataframe thead th {\n",
       "        text-align: right;\n",
       "    }\n",
       "</style>\n",
       "<table border=\"1\" class=\"dataframe\">\n",
       "  <thead>\n",
       "    <tr style=\"text-align: right;\">\n",
       "      <th></th>\n",
       "      <th>amount</th>\n",
       "      <th>count_client</th>\n",
       "      <th>count_users</th>\n",
       "      <th>conversion</th>\n",
       "    </tr>\n",
       "    <tr>\n",
       "      <th>count_tutorial_finish</th>\n",
       "      <th></th>\n",
       "      <th></th>\n",
       "      <th></th>\n",
       "      <th></th>\n",
       "    </tr>\n",
       "  </thead>\n",
       "  <tbody>\n",
       "    <tr>\n",
       "      <th>0.0</th>\n",
       "      <td>16575.0</td>\n",
       "      <td>153.0</td>\n",
       "      <td>9676</td>\n",
       "      <td>1.58</td>\n",
       "    </tr>\n",
       "    <tr>\n",
       "      <th>1.0</th>\n",
       "      <td>126025.0</td>\n",
       "      <td>1143.0</td>\n",
       "      <td>8015</td>\n",
       "      <td>14.26</td>\n",
       "    </tr>\n",
       "    <tr>\n",
       "      <th>2.0</th>\n",
       "      <td>20625.0</td>\n",
       "      <td>182.0</td>\n",
       "      <td>1321</td>\n",
       "      <td>13.78</td>\n",
       "    </tr>\n",
       "    <tr>\n",
       "      <th>3.0</th>\n",
       "      <td>5475.0</td>\n",
       "      <td>44.0</td>\n",
       "      <td>345</td>\n",
       "      <td>12.75</td>\n",
       "    </tr>\n",
       "    <tr>\n",
       "      <th>4.0</th>\n",
       "      <td>1950.0</td>\n",
       "      <td>19.0</td>\n",
       "      <td>178</td>\n",
       "      <td>10.67</td>\n",
       "    </tr>\n",
       "    <tr>\n",
       "      <th>5.0</th>\n",
       "      <td>1950.0</td>\n",
       "      <td>19.0</td>\n",
       "      <td>117</td>\n",
       "      <td>16.24</td>\n",
       "    </tr>\n",
       "    <tr>\n",
       "      <th>6.0</th>\n",
       "      <td>1625.0</td>\n",
       "      <td>15.0</td>\n",
       "      <td>101</td>\n",
       "      <td>14.85</td>\n",
       "    </tr>\n",
       "    <tr>\n",
       "      <th>7.0</th>\n",
       "      <td>1750.0</td>\n",
       "      <td>15.0</td>\n",
       "      <td>97</td>\n",
       "      <td>15.46</td>\n",
       "    </tr>\n",
       "    <tr>\n",
       "      <th>8.0</th>\n",
       "      <td>800.0</td>\n",
       "      <td>6.0</td>\n",
       "      <td>54</td>\n",
       "      <td>11.11</td>\n",
       "    </tr>\n",
       "    <tr>\n",
       "      <th>9.0</th>\n",
       "      <td>400.0</td>\n",
       "      <td>4.0</td>\n",
       "      <td>22</td>\n",
       "      <td>18.18</td>\n",
       "    </tr>\n",
       "  </tbody>\n",
       "</table>\n",
       "</div>"
      ],
      "text/plain": [
       "                         amount  count_client  count_users  conversion\n",
       "count_tutorial_finish                                                 \n",
       "0.0                     16575.0         153.0         9676        1.58\n",
       "1.0                    126025.0        1143.0         8015       14.26\n",
       "2.0                     20625.0         182.0         1321       13.78\n",
       "3.0                      5475.0          44.0          345       12.75\n",
       "4.0                      1950.0          19.0          178       10.67\n",
       "5.0                      1950.0          19.0          117       16.24\n",
       "6.0                      1625.0          15.0          101       14.85\n",
       "7.0                      1750.0          15.0           97       15.46\n",
       "8.0                       800.0           6.0           54       11.11\n",
       "9.0                       400.0           4.0           22       18.18"
      ]
     },
     "execution_count": 17,
     "metadata": {},
     "output_type": "execute_result"
    }
   ],
   "source": [
    "#Создаем новый датафрейм\n",
    "group_df = total_events_copy.groupby(by='user_id').sum()\n",
    "group_df['count_users'] = 1\n",
    "#Агрегируем данные по количеству завершений обучений\n",
    "group_final_finish = group_df.groupby(by='count_tutorial_finish').sum() \n",
    "group_final_finish = group_final_finish.drop(['event_id', 'tutorial_id', 'purchase_id'], axis=1)\n",
    "#Считаем конверсию\n",
    "group_final_finish['conversion']=(group_final_finish['count_client']*100/group_final_finish['count_users']).round(2) \n",
    "group_final_finish"
   ]
  },
  {
   "cell_type": "code",
   "execution_count": 18,
   "metadata": {},
   "outputs": [
    {
     "data": {
      "image/png": "[encoded data removed]",
      "text/plain": [
       "<Figure size 1400x700 with 1 Axes>"
      ]
     },
     "metadata": {},
     "output_type": "display_data"
    }
   ],
   "source": [
    "#визуализируем данные\n",
    "fig, axes = plt.subplots(nrows=1, ncols=1, figsize=(14,7))\n",
    "barplot1 = sns.barplot(\n",
    "    data = group_df,\n",
    "    x = 'count_tutorial_finish',\n",
    "    y = 'amount',\n",
    "    estimator = 'count_nonzero'\n",
    ")\n",
    "barplot1.set_title('Количество оплат в зависимости от количества стартов обучений', fontsize=16)\n",
    "barplot1.set_xlabel('Количество стартов обучений', fontsize=10)\n",
    "barplot1.set_ylabel('Количество оплат обучений', fontsize=10)\n",
    "plt.show()"
   ]
  },
  {
   "attachments": {},
   "cell_type": "markdown",
   "metadata": {},
   "source": [
    "Выводы:\n",
    "В процессе анализа было выявлено 10 групп (0 - не закончившие обучение, 1-9 - по количеству окончаний обучения соответственно). Вероятность покупки возрастает на 10-18%, если обучение было пройдено, но показатель конверсии очень разрозненный по группам. А если обучение не начиналось, то только 1,58% пользователей совершают покупку.\n",
    "\n",
    "Зависимости между вероятностью оплаты и количеством обучений не наблюдается. Однако факт окончания или начала обучения значительно повышает вероятность оплаты."
   ]
  },
  {
   "attachments": {},
   "cell_type": "markdown",
   "metadata": {},
   "source": [
    "Гипотеза 3: Если пользователь сначала выбирает сложность обучения, будет ли он потом проходить обучение"
   ]
  },
  {
   "cell_type": "code",
   "execution_count": 19,
   "metadata": {},
   "outputs": [
    {
     "name": "stdout",
     "output_type": "stream",
     "text": [
      "       event_id      event_type selected_level          start_time  \\\n",
      "0       80316.0  tutorial_start            NaN 2018-01-01 15:00:51   \n",
      "1       80323.0  tutorial_start            NaN 2018-01-01 19:11:36   \n",
      "2       80337.0  tutorial_start            NaN 2018-01-02 02:07:07   \n",
      "3       80338.0  tutorial_start            NaN 2018-01-02 03:03:44   \n",
      "4       80349.0  tutorial_start            NaN 2018-01-02 07:08:00   \n",
      "...         ...             ...            ...                 ...   \n",
      "12681  147236.0  tutorial_start            NaN 2018-12-31 07:14:38   \n",
      "12682  147242.0  tutorial_start            NaN 2018-12-31 10:21:11   \n",
      "12683  147253.0  tutorial_start            NaN 2018-12-31 20:54:56   \n",
      "12684  147260.0  tutorial_start            NaN 2019-01-01 00:08:14   \n",
      "12685  147262.0  tutorial_start            NaN 2019-01-01 03:26:18   \n",
      "\n",
      "       tutorial_id  user_id  purchase_id  amount   level_choice_time  \\\n",
      "0          31506.0    27835          NaN     NaN 2018-01-01 20:37:22   \n",
      "1          31509.0    27839          NaN     NaN 2018-01-01 22:37:50   \n",
      "2          31511.0    27840          NaN     NaN 2018-01-02 05:18:42   \n",
      "3          31512.0    27845          NaN     NaN 2018-01-02 06:19:18   \n",
      "4          31514.0    27845          NaN     NaN 2018-01-02 06:19:18   \n",
      "...            ...      ...          ...     ...                 ...   \n",
      "12681      49549.0    47732          NaN     NaN 2018-12-31 09:59:00   \n",
      "12682      49550.0    47747          NaN     NaN 2018-12-31 12:24:40   \n",
      "12683      49552.0    47753          NaN     NaN 2018-12-31 22:36:19   \n",
      "12684      49553.0    47755          NaN     NaN 2019-01-01 05:04:52   \n",
      "12685      49554.0    47756          NaN     NaN 2019-01-01 05:42:11   \n",
      "\n",
      "             time_delta  \n",
      "0     -1 days +18:23:29  \n",
      "1     -1 days +20:33:46  \n",
      "2     -1 days +20:48:25  \n",
      "3     -1 days +20:44:26  \n",
      "4       0 days 00:48:42  \n",
      "...                 ...  \n",
      "12681 -1 days +21:15:38  \n",
      "12682 -1 days +21:56:31  \n",
      "12683 -1 days +22:18:37  \n",
      "12684 -1 days +19:03:22  \n",
      "12685 -1 days +21:44:07  \n",
      "\n",
      "[12686 rows x 10 columns]\n"
     ]
    }
   ],
   "source": [
    "#Создаем датасет с событием level_choice\n",
    "level_choice_df = events_df[events_df['event_type'] == 'level_choice'][['user_id','start_time']]\n",
    "level_choice_df = level_choice_df.rename(columns= {'start_time':'level_choice_time'})\n",
    "level_choice_df['level_choice_time']=pd.to_datetime(level_choice_df['level_choice_time']) \n",
    "#Создаем датасет с временем события start_time и level_choice_time \n",
    "tutorial_start_level_choise_df = tutorial_start_df.merge(level_choice_df, on='user_id', how='inner')\n",
    "tutorial_start_level_choise_df['time_delta'] = \\\n",
    "    tutorial_start_level_choise_df['start_time'] - tutorial_start_level_choise_df['level_choice_time']\n",
    "\n",
    "print(tutorial_start_level_choise_df)"
   ]
  },
  {
   "cell_type": "code",
   "execution_count": 20,
   "metadata": {},
   "outputs": [
    {
     "name": "stdout",
     "output_type": "stream",
     "text": [
      "\n",
      "Пользователи, прошедшие обучение после выбора уровня сложности 1386\n",
      "Пользователи, прошедшие обучение до выбора уровня сложности 8244\n"
     ]
    }
   ],
   "source": [
    "#Посчитаем разницу между временем выбора уровня и временем начала обучения(time_delta)\n",
    "#Если разница отрицаельная, значит обучение началось после выбора уровня\n",
    "#Пользователи, прошедшие обучение после выбора уровня сложности   \n",
    "users_tutorial_after_level_choice = tutorial_start_level_choise_df[tutorial_start_level_choise_df['time_delta']>'1 seconds']['user_id'].nunique()\n",
    "print('')\n",
    "print('Пользователи, прошедшие обучение после выбора уровня сложности', users_tutorial_after_level_choice) \n",
    "\n",
    "users_tutorial_before_level_choice = tutorial_start_level_choise_df[ tutorial_start_level_choise_df\\\n",
    "                                                                    ['time_delta']<pd.Timedelta(0)]['user_id'].nunique()\n",
    "#Пользователи, прошедшие обучение до выбора уровня сложности\n",
    "print('Пользователи, прошедшие обучение до выбора уровня сложности', users_tutorial_before_level_choice)"
   ]
  },
  {
   "cell_type": "code",
   "execution_count": 21,
   "metadata": {},
   "outputs": [
    {
     "name": "stdout",
     "output_type": "stream",
     "text": [
      "Соотношение прошедших обучение после выбора уровня сложности к прошедшим обучение до выбора уровня сложности 16.812227074235807\n"
     ]
    }
   ],
   "source": [
    "#Посчитаем соотношение прошедших обучение после выбора уровня сложности к прошедшим обучение до выбора уровня сложности\n",
    "percent_users_tutorial_after_level_choice = users_tutorial_after_level_choice / users_tutorial_before_level_choice*100\n",
    "print('Соотношение прошедших обучение после выбора уровня сложности к прошедшим обучение до выбора уровня сложности', percent_users_tutorial_after_level_choice)"
   ]
  },
  {
   "cell_type": "code",
   "execution_count": 22,
   "metadata": {},
   "outputs": [
    {
     "data": {
      "image/png": "[encoded data removed]",
      "text/plain": [
       "<Figure size 500x500 with 1 Axes>"
      ]
     },
     "metadata": {},
     "output_type": "display_data"
    }
   ],
   "source": [
    "tutorial_start_level_choise_df = [users_tutorial_after_level_choice, users_tutorial_before_level_choice]\n",
    "labels = ['% пользователей, прошедших обучение после выбора уровня сложности', '% пользователей, прошедших обучение до выбора уровня сложности']\n",
    "fig = plt.figure(figsize=(5,5))\n",
    "axes = fig.add_axes([0,0,1,1])\n",
    "axes.pie(tutorial_start_level_choise_df, labels=labels, autopct='%1.1f%%', explode = [0.1, 0])\n",
    "axes.set_title('Соотношение пользователей прошедших обучение после выбора уровня сложности к прошедшим обучение до выбора уровня сложности', fontsize=16)\n",
    "plt.show()"
   ]
  },
  {
   "attachments": {},
   "cell_type": "markdown",
   "metadata": {},
   "source": [
    "Вывод: В процессе анализа был произведен расчет пользователей, прошедшие обучение после выбора уровня сложности (1386 человек) и пользователей, прошедшие обучение до выбора уровня сложности (8244 человека). В процентном соотношении это составляет 16.8%. Соответственно пользователи начинают обучение после того, как выбрали уровень сложности тренировок, не часто, а значит приложение довольно интуитивно и не вызывает особых сложностей у пользователей."
   ]
  },
  {
   "attachments": {},
   "cell_type": "markdown",
   "metadata": {},
   "source": [
    "Общие выводы по проекту"
   ]
  },
  {
   "attachments": {},
   "cell_type": "markdown",
   "metadata": {},
   "source": [
    "1. Согласно расчетам время прохождения игры у \"обученных\" людей ниже. \n",
    "2. Зависимости между вероятностью оплаты и количеством обучений не выявлено. Однако факт окончания или начала обучения значительно повышает вероятность оплаты.\n",
    "3. Соотношение пользователей, прошедших обучение после выбора уровня сложности (1386 человек) и пользователей, прошедших обучение до выбора уровня сложности составляет 16.8%. Соответственно пользователи начинают обучение после того, как выбрали уровень сложности тренировок, не часто, а значит приложение довольно интуитивно и не вызывает особых сложностей у пользователей."
   ]
  }
 ],
 "metadata": {
  "kernelspec": {
   "display_name": "Python 3",
   "language": "python",
   "name": "python3"
  },
  "language_info": {
   "codemirror_mode": {
    "name": "ipython",
    "version": 3
   },
   "file_extension": ".py",
   "mimetype": "text/x-python",
   "name": "python",
   "nbconvert_exporter": "python",
   "pygments_lexer": "ipython3",
   "version": "3.9.10"
  },
  "orig_nbformat": 4
 },
 "nbformat": 4,
 "nbformat_minor": 2
}
